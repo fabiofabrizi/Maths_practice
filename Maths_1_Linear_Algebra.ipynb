{
 "cells": [
  {
   "cell_type": "markdown",
   "id": "e6e115ed",
   "metadata": {},
   "source": [
    "# Linear Algebra"
   ]
  },
  {
   "cell_type": "markdown",
   "id": "ee87a7c4",
   "metadata": {},
   "source": [
    "## Aims"
   ]
  },
  {
   "cell_type": "markdown",
   "id": "a7b311e3",
   "metadata": {},
   "source": [
    "Demonstrate Linear Algebra concepts using:\n",
    "- Python\n",
    "- Numpy\n",
    "- Matplotlib/Seaborn"
   ]
  },
  {
   "cell_type": "markdown",
   "id": "3702ceca",
   "metadata": {},
   "source": [
    "## Books\n",
    "\n",
    "https://gwthomas.github.io/docs/math4ml.pdf\n",
    "\n",
    "http://cs229.stanford.edu/section/cs229-prob.pdf\n",
    "\n",
    "https://www.deeplearningbook.org/contents/linear_algebra.html\n",
    "\n",
    "https://web.stanford.edu/~boyd/vmls/vmls.pdf\n",
    "\n",
    "(What I've started with)<br>\n",
    "https://mml-book.github.io/book/mml-book.pdf"
   ]
  },
  {
   "cell_type": "markdown",
   "id": "785b51d4",
   "metadata": {},
   "source": [
    "## What is Linear Algebra?"
   ]
  },
  {
   "cell_type": "markdown",
   "id": "6efb0e23",
   "metadata": {},
   "source": [
    "Linear Algebra is a branch of mathematics that's used in statistics and therefore, Data Science.\n",
    "The type of Linear Algebra used in Data Science are Matrices and Vectors. <br>\n",
    "\n",
    "It's called Linear because of the *Linear combinations*, ie, using arithmetic on columns of numbers (vectors) <br>\n",
    "and arrays of numbers (matrices) to create new columns and arrays of numbers.\n",
    "\n",
    "Linear Algebra is used for analysing: <br>\n",
    "- lines and planes\n",
    "- vector spaces\n",
    "- mappings\n",
    "Which are used for linear transforms.<br>\n",
    "\n",
    "An example of a simple linear equation is below:"
   ]
  },
  {
   "cell_type": "code",
   "execution_count": null,
   "id": "46e0fd61",
   "metadata": {},
   "outputs": [],
   "source": [
    "y = 5 * x + 9"
   ]
  },
  {
   "cell_type": "markdown",
   "id": "f0fa3a5c",
   "metadata": {},
   "source": [
    "## Linear Algebra and Statistics"
   ]
  },
  {
   "cell_type": "markdown",
   "id": "d9b6b9dd",
   "metadata": {},
   "source": [
    "[Linear Algebra](https://machinelearningmastery.com/gentle-introduction-linear-algebra/) is used in Statistics for the following methods:\n",
    "- Vector and matrix notation, especially multivariate statistics\n",
    "- Solutions to least squares and weighted least squares, for linear regression.\n",
    "- Estimates of mean and variance of data matrices\n",
    "- Covariance matrix that is used in multinomial Gaussian distributions\n",
    "- Principal Component Analysis for data reduction."
   ]
  },
  {
   "cell_type": "markdown",
   "id": "3dce4a30",
   "metadata": {},
   "source": [
    "### What is a Scalar?"
   ]
  },
  {
   "cell_type": "markdown",
   "id": "84c698e2",
   "metadata": {},
   "source": [
    "A [scalar](https://softwareengineering.stackexchange.com/questions/238033/what-does-it-mean-when-data-is-scalar#:~:text=A%20scalar%20is%20a%20simple%20single%20numeric%20value,that%20contains%20more%20than%20one%20single%20numeric%20value.) is a simple numeric value like:\n",
    "-3\n",
    "-2/3\n",
    "-4.55563\n",
    "\n",
    "Scalars are usually integers, fixed point or floating-point numbers, <br>\n",
    "as opposed to an array or object."
   ]
  },
  {
   "cell_type": "markdown",
   "id": "f9453f30",
   "metadata": {},
   "source": [
    "### What is a Vector?"
   ]
  },
  {
   "cell_type": "markdown",
   "id": "a1a2c61c",
   "metadata": {},
   "source": [
    "A vector is a tuple of one or more scalars. <br>\n",
    "\n",
    "In Python, a [tuple](https://www.w3schools.com/python/python_tuples.asp) is a collection which is ordered and **unchangeable**.\n",
    "\n",
    "Vectors are often represented using a lowercase character such as 'v':"
   ]
  },
  {
   "cell_type": "code",
   "execution_count": null,
   "id": "79a71acb",
   "metadata": {},
   "outputs": [],
   "source": [
    "# v1, v2, v3 are scalar, often real values.\n",
    "v = (v1, v2, v3)"
   ]
  },
  {
   "cell_type": "markdown",
   "id": "151506f8",
   "metadata": {},
   "source": [
    "### Defining a Vector"
   ]
  },
  {
   "cell_type": "markdown",
   "id": "4086c526",
   "metadata": {},
   "source": [
    "A vector can be defined in Python as a numpy array.<br>\n",
    "A numpy array can be created from a list of numbers.<br>\n",
    "Below, the vector is defined as having length 3 and <br>\n",
    "integer values 1, 2, 3."
   ]
  },
  {
   "cell_type": "code",
   "execution_count": 4,
   "id": "746e733a",
   "metadata": {},
   "outputs": [
    {
     "name": "stdout",
     "output_type": "stream",
     "text": [
      "[1 2 3]\n"
     ]
    }
   ],
   "source": [
    "# Create a vector\n",
    "import numpy as np\n",
    "\n",
    "v = np.array([1, 2, 3])\n",
    "print(v)"
   ]
  },
  {
   "cell_type": "markdown",
   "id": "9d822a41",
   "metadata": {},
   "source": [
    "### Vector Multiplication"
   ]
  },
  {
   "cell_type": "markdown",
   "id": "cb3c57bd",
   "metadata": {},
   "source": [
    "Two vectors of equal length can be multiplied together:"
   ]
  },
  {
   "cell_type": "code",
   "execution_count": null,
   "id": "c3431cfc",
   "metadata": {},
   "outputs": [],
   "source": [
    "c = a * b"
   ]
  },
  {
   "cell_type": "markdown",
   "id": "1eb5f07c",
   "metadata": {},
   "source": [
    "Just like addition and subtraction, this is performed element-wise to<br>\n",
    "result in a new vector *with the same length*."
   ]
  },
  {
   "cell_type": "code",
   "execution_count": null,
   "id": "ade0b146",
   "metadata": {},
   "outputs": [],
   "source": [
    "a * b = (a1 * b1, a2 * b2, a3 * b3)"
   ]
  },
  {
   "cell_type": "markdown",
   "id": "561732c4",
   "metadata": {},
   "source": [
    "This is what it looks like in numpy:"
   ]
  },
  {
   "cell_type": "code",
   "execution_count": 5,
   "id": "49fc5387",
   "metadata": {},
   "outputs": [
    {
     "name": "stdout",
     "output_type": "stream",
     "text": [
      "[1 2 3]\n",
      "[1 2 3]\n",
      "[1 4 9]\n"
     ]
    }
   ],
   "source": [
    "# multiply vectors\n",
    "from numpy import array\n",
    "\n",
    "# Define the first vector \n",
    "a = array([1, 2, 3])\n",
    "print(a)\n",
    "\n",
    "# Define the second vector\n",
    "b = array([1, 2, 3])\n",
    "print(b)\n",
    "\n",
    "# Multiply the two vectors together\n",
    "c = a * b\n",
    "print(c)"
   ]
  },
  {
   "cell_type": "markdown",
   "id": "62cc11a6",
   "metadata": {},
   "source": [
    "### Vector addition"
   ]
  },
  {
   "cell_type": "code",
   "execution_count": 6,
   "id": "6211103c",
   "metadata": {},
   "outputs": [
    {
     "name": "stdout",
     "output_type": "stream",
     "text": [
      "[1 2 3]\n",
      "[1 2 3]\n",
      "[2 4 6]\n"
     ]
    }
   ],
   "source": [
    "# add vectors\n",
    "\n",
    "# Define the first vector \n",
    "a = array([1, 2, 3])\n",
    "print(a)\n",
    "\n",
    "# Define the second vector\n",
    "b = array([1, 2, 3])\n",
    "print(b)\n",
    "\n",
    "# Add the two vectors together\n",
    "c = a + b\n",
    "print(c)"
   ]
  },
  {
   "cell_type": "markdown",
   "id": "94f712b2",
   "metadata": {},
   "source": [
    "### Vector division"
   ]
  },
  {
   "cell_type": "code",
   "execution_count": 8,
   "id": "8ea92e80",
   "metadata": {},
   "outputs": [
    {
     "name": "stdout",
     "output_type": "stream",
     "text": [
      "[1 2 3]\n",
      "[1 2 3]\n",
      "[1 1 1]\n"
     ]
    }
   ],
   "source": [
    "# divide vectors\n",
    "\n",
    "# Define the first vector \n",
    "a = array([1, 2, 3])\n",
    "print(a)\n",
    "\n",
    "# Define the second vector\n",
    "b = array([1, 2, 3])\n",
    "print(b)\n",
    "\n",
    "# Divide the two vectors together\n",
    "c = a // b\n",
    "print(c)"
   ]
  },
  {
   "cell_type": "markdown",
   "id": "bc8b5d20",
   "metadata": {},
   "source": [
    "### Vector subtraction"
   ]
  },
  {
   "cell_type": "code",
   "execution_count": 9,
   "id": "77cfce9e",
   "metadata": {},
   "outputs": [
    {
     "name": "stdout",
     "output_type": "stream",
     "text": [
      "[1 2 3]\n",
      "[1 2 3]\n",
      "[0 0 0]\n"
     ]
    }
   ],
   "source": [
    "# subtract vectors\n",
    "\n",
    "# Define the first vector \n",
    "a = array([1, 2, 3])\n",
    "print(a)\n",
    "\n",
    "# Define the second vector\n",
    "b = array([1, 2, 3])\n",
    "print(b)\n",
    "\n",
    "# subtract the two vectors together\n",
    "c = a - b\n",
    "print(c)"
   ]
  },
  {
   "cell_type": "markdown",
   "id": "70bc281f",
   "metadata": {},
   "source": [
    "### Vector dot product"
   ]
  },
  {
   "cell_type": "markdown",
   "id": "d0cc9000",
   "metadata": {},
   "source": [
    "If:\n",
    "c = a * b, and <br>\n",
    "a * b = (a1 * b1, a2 * b2, a3 * b3)<br>\n",
    "\n",
    "Then for the dot product:<br>\n",
    "d = a$\\cdot$b\n",
    "a$\\cdot$b = (a1 * b1 + a2 * b2 + a3 * b3)<br>\n",
    "\n",
    "This can be calculated quickly using the *numpy.dot()* function."
   ]
  },
  {
   "cell_type": "code",
   "execution_count": 10,
   "id": "fe09ee7e",
   "metadata": {},
   "outputs": [
    {
     "name": "stdout",
     "output_type": "stream",
     "text": [
      "[1 2 3]\n",
      "[1 2 3]\n",
      "14\n"
     ]
    }
   ],
   "source": [
    "# dot product vectors\n",
    "from numpy import array\n",
    "\n",
    "# Define the first vector \n",
    "a = array([1, 2, 3])\n",
    "print(a)\n",
    "\n",
    "# Define the second vector\n",
    "b = array([1, 2, 3])\n",
    "print(b)\n",
    "\n",
    "# calculate the dot pro\n",
    "c = np.dot(a, b)\n",
    "print(c)"
   ]
  },
  {
   "cell_type": "markdown",
   "id": "bbb7095c",
   "metadata": {},
   "source": [
    "## Matrices"
   ]
  },
  {
   "cell_type": "markdown",
   "id": "cccd8e64",
   "metadata": {},
   "source": [
    "### What is a Matrix?"
   ]
  },
  {
   "cell_type": "markdown",
   "id": "f97bc756",
   "metadata": {},
   "source": [
    "A matrix is a two-dimensional array of scalars with one or more columns and one or more rows.<br>\n",
    "\n",
    "The notation for a matrix is often an uppercase letter, and entries are referred to by their<br>\n",
    "two-dimensional subscript of row(i) and column(j), such as a<sub>ij</sub>"
   ]
  },
  {
   "cell_type": "code",
   "execution_count": null,
   "id": "8a53ebca",
   "metadata": {},
   "outputs": [],
   "source": [
    "# Example of a matrix referred to by rows and columns.\n",
    "A = ((a11, a12), (a21, a22), (a31, a32))"
   ]
  },
  {
   "cell_type": "markdown",
   "id": "eeb35937",
   "metadata": {},
   "source": [
    "### Defining a Matrix"
   ]
  },
  {
   "cell_type": "markdown",
   "id": "81c563a1",
   "metadata": {},
   "source": [
    "A matrix can be defined in Python using a 2d NumPy array.<br>\n",
    "\n",
    "A NumPy array can be constructed using a list of lists.<br>\n",
    "In the example below, the array has 2 rows and 3 columns."
   ]
  },
  {
   "cell_type": "code",
   "execution_count": 11,
   "id": "e77259a0",
   "metadata": {},
   "outputs": [
    {
     "name": "stdout",
     "output_type": "stream",
     "text": [
      "[[1 2 3]\n",
      " [4 5 6]]\n"
     ]
    }
   ],
   "source": [
    "# create matrix\n",
    "A = array([[1, 2, 3],[4, 5, 6]])\n",
    "print(A)"
   ]
  },
  {
   "cell_type": "markdown",
   "id": "2ce77f87",
   "metadata": {},
   "source": [
    "### Matrix Addition"
   ]
  },
  {
   "cell_type": "markdown",
   "id": "8acf38a0",
   "metadata": {},
   "source": [
    "Two matrices **with the same dimensions** can be added together to create a third new matrix."
   ]
  },
  {
   "cell_type": "code",
   "execution_count": null,
   "id": "bcc6d124",
   "metadata": {},
   "outputs": [],
   "source": [
    "C = A + B"
   ]
  },
  {
   "cell_type": "markdown",
   "id": "a8a2992a",
   "metadata": {},
   "source": [
    "The scalar elements in the resulting matrix are calculated<br> \n",
    "as the addition of the elements in each of the matrices being added\n",
    "\n",
    "This can be implemented in NumPy using with the plus operator<br>\n",
    "on two NumPy arrays."
   ]
  },
  {
   "cell_type": "code",
   "execution_count": 15,
   "id": "a6573a6c",
   "metadata": {},
   "outputs": [
    {
     "name": "stdout",
     "output_type": "stream",
     "text": [
      "The matrice for A: \n",
      "[[1 2 3]\n",
      " [4 5 6]]\n",
      "\n",
      "The matrice for B: \n",
      "[[1 2 3]\n",
      " [4 5 6]]\n",
      "The two matrices added together: \n",
      "[[ 2  4  6]\n",
      " [ 8 10 12]]\n"
     ]
    }
   ],
   "source": [
    "# Add two matrices\n",
    "A = array([[1, 2, 3], [4, 5, 6]])\n",
    "print(f'The matrice for A: \\n{A}')\n",
    "B = array([[1, 2, 3], [4, 5, 6]])\n",
    "print(f'\\nThe matrice for B: \\n{B}')\n",
    "\n",
    "# Add the matrices together\n",
    "C = A + B\n",
    "print(f'The two matrices added together: \\n{C}')"
   ]
  },
  {
   "cell_type": "markdown",
   "id": "4c2e6ee9",
   "metadata": {},
   "source": [
    "### Matrix Dot Product"
   ]
  },
  {
   "cell_type": "markdown",
   "id": "f35a2f76",
   "metadata": {},
   "source": [
    "Also called matrix multiplication, the matrix dot product<br>\n",
    "is more complicated than the other operations.<br>\n",
    "**NB**<br>\n",
    "Not all matrices can be multiplied together."
   ]
  },
  {
   "cell_type": "code",
   "execution_count": null,
   "id": "f85dfb70",
   "metadata": {},
   "outputs": [],
   "source": [
    "C = A * B"
   ]
  },
  {
   "cell_type": "markdown",
   "id": "07630ef2",
   "metadata": {},
   "source": [
    "This is the rule to calculate the matrix dot product:<br>\n",
    "The number of columns(n) in the first matrix (A) must equal<br>\n",
    "the number of rows(m) in the second matrix (B).\n",
    "\n",
    "For example, if matrix A has the dimensions $m$ rows and $n$ columns<br>\n",
    "and matrix B has the dimensions $n$ and $k$.<br>\n",
    "The $n$ columns in A and $n$ rows in B are equal, resulting in a new matrix<br>\n",
    "with $m$ rows and $k$ columns."
   ]
  },
  {
   "cell_type": "code",
   "execution_count": null,
   "id": "b4b6e92d",
   "metadata": {},
   "outputs": [],
   "source": [
    "# Matrix dot product\n",
    "C(m,k) = A(m,n) * B(n,k)"
   ]
  },
  {
   "cell_type": "markdown",
   "id": "f1373634",
   "metadata": {},
   "source": [
    "The rule is there because we're calculating the dot product between each row in matrix A<br>\n",
    "with each column in matrix B.\n",
    "\n",
    "The matrix multiplication can be implemented in NumPy using the dot() function, shown below."
   ]
  },
  {
   "cell_type": "code",
   "execution_count": 19,
   "id": "e092a642",
   "metadata": {},
   "outputs": [
    {
     "name": "stdout",
     "output_type": "stream",
     "text": [
      "First matrix, A: \n",
      "[[1 2]\n",
      " [3 4]\n",
      " [5 6]]\n",
      "Second matrix, B: \n",
      "[[1 2]\n",
      " [3 4]]\n",
      "The dot product of A and B: \n",
      "[[ 7 10]\n",
      " [15 22]\n",
      " [23 34]]\n"
     ]
    }
   ],
   "source": [
    "# matrix dot product\n",
    "A = array([[1, 2], [3, 4], [5, 6]])\n",
    "print(f'First matrix, A: \\n{A}')\n",
    "B = array([[1, 2], [3, 4]])\n",
    "print(f'Second matrix, B: \\n{B}')\n",
    "C = A.dot(B)\n",
    "print(f'The dot product of A and B: \\n{C}')"
   ]
  },
  {
   "cell_type": "markdown",
   "id": "f60486f1",
   "metadata": {},
   "source": [
    "A simpler example:"
   ]
  },
  {
   "cell_type": "code",
   "execution_count": null,
   "id": "00d6d989",
   "metadata": {},
   "outputs": [],
   "source": []
  },
  {
   "cell_type": "code",
   "execution_count": null,
   "id": "45e26830",
   "metadata": {},
   "outputs": [],
   "source": []
  },
  {
   "cell_type": "code",
   "execution_count": null,
   "id": "ddf0f955",
   "metadata": {},
   "outputs": [],
   "source": []
  },
  {
   "cell_type": "code",
   "execution_count": null,
   "id": "82f2cb32",
   "metadata": {},
   "outputs": [],
   "source": []
  },
  {
   "cell_type": "code",
   "execution_count": null,
   "id": "53e2df19",
   "metadata": {},
   "outputs": [],
   "source": []
  },
  {
   "cell_type": "code",
   "execution_count": null,
   "id": "c97ab538",
   "metadata": {},
   "outputs": [],
   "source": []
  },
  {
   "cell_type": "code",
   "execution_count": null,
   "id": "0b0b9f91",
   "metadata": {},
   "outputs": [],
   "source": []
  },
  {
   "cell_type": "markdown",
   "id": "bdbd1ce7",
   "metadata": {},
   "source": [
    "## References"
   ]
  },
  {
   "cell_type": "markdown",
   "id": "49401e4f",
   "metadata": {},
   "source": [
    "1. [A Gentle Introduction to Linear Algebra](https://machinelearningmastery.com/gentle-introduction-linear-algebra/)<br>\n",
    "2. [The dot product of two vectors using numpy](https://www.statology.org/numpy-dot-product/#:~:text=How%20to%20Calculate%20Dot%20Product%20Using%20NumPy%20Given,%C2%B7%20b%20%3D%208%20%2B%2015%20%2B%2012)"
   ]
  }
 ],
 "metadata": {
  "kernelspec": {
   "display_name": "Python 3 (ipykernel)",
   "language": "python",
   "name": "python3"
  },
  "language_info": {
   "codemirror_mode": {
    "name": "ipython",
    "version": 3
   },
   "file_extension": ".py",
   "mimetype": "text/x-python",
   "name": "python",
   "nbconvert_exporter": "python",
   "pygments_lexer": "ipython3",
   "version": "3.9.13"
  }
 },
 "nbformat": 4,
 "nbformat_minor": 5
}
