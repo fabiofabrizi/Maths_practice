{
 "cells": [
  {
   "cell_type": "markdown",
   "id": "209796b0",
   "metadata": {},
   "source": [
    "# Linear Algebra"
   ]
  },
  {
   "cell_type": "markdown",
   "id": "36545040",
   "metadata": {},
   "source": [
    "## Aims"
   ]
  },
  {
   "cell_type": "markdown",
   "id": "8f5ec49d",
   "metadata": {},
   "source": [
    "Demonstrate Linear Algebra concepts using:\n",
    "- Python\n",
    "- Numpy\n",
    "- Matplotlib/Seaborn"
   ]
  },
  {
   "cell_type": "markdown",
   "id": "88904747",
   "metadata": {},
   "source": [
    "## Books\n",
    "\n",
    "https://gwthomas.github.io/docs/math4ml.pdf\n",
    "\n",
    "http://cs229.stanford.edu/section/cs229-prob.pdf\n",
    "\n",
    "https://www.deeplearningbook.org/contents/linear_algebra.html\n",
    "\n",
    "https://web.stanford.edu/~boyd/vmls/vmls.pdf\n",
    "\n",
    "(What I've started with)<br>\n",
    "https://mml-book.github.io/book/mml-book.pdf"
   ]
  },
  {
   "cell_type": "markdown",
   "id": "9a348125",
   "metadata": {},
   "source": [
    "## What is Linear Algebra?"
   ]
  },
  {
   "cell_type": "markdown",
   "id": "715fc6d3",
   "metadata": {},
   "source": [
    "Linear Algebra is a branch of mathematics that's used in statistics and therefore, Data Science.\n",
    "The type of Linear Algebra used in Data Science are Matrices and Vectors. <br>\n",
    "\n",
    "It's called Linear because of the *Linear combinations*, ie, using arithmetic on columns of numbers (vectors) <br>\n",
    "and arrays of numbers (matrices) to create new columns and arrays of numbers.\n",
    "\n",
    "Linear Algebra is used for analysing: <br>\n",
    "- lines and planes\n",
    "- vector spaces\n",
    "- mappings\n",
    "Which are used for linear transforms.<br>\n",
    "\n",
    "An example of a simple linear equation is below:"
   ]
  },
  {
   "cell_type": "code",
   "execution_count": null,
   "id": "0dd48687",
   "metadata": {},
   "outputs": [],
   "source": [
    "y = 5 * x + 9"
   ]
  },
  {
   "cell_type": "markdown",
   "id": "135472ae",
   "metadata": {},
   "source": [
    "## Linear Algebra and Statistics"
   ]
  },
  {
   "cell_type": "markdown",
   "id": "2ae52448",
   "metadata": {},
   "source": [
    "[Linear Algebra](https://machinelearningmastery.com/gentle-introduction-linear-algebra/) is used in Statistics for the following methods:\n",
    "- Vector and matrix notation, especially multivariate statistics\n",
    "- Solutions to least squares and weighted least squares, for linear regression.\n",
    "- Estimates of mean and variance of data matrices\n",
    "- Covariance matrix that is used in multinomial Gaussian distributions\n",
    "- Principal Component Analysis for data reduction."
   ]
  },
  {
   "cell_type": "markdown",
   "id": "0289da29",
   "metadata": {},
   "source": [
    "### What is a Scalar?"
   ]
  },
  {
   "cell_type": "markdown",
   "id": "c62f48ce",
   "metadata": {},
   "source": [
    "A [scalar](https://softwareengineering.stackexchange.com/questions/238033/what-does-it-mean-when-data-is-scalar#:~:text=A%20scalar%20is%20a%20simple%20single%20numeric%20value,that%20contains%20more%20than%20one%20single%20numeric%20value.) is a simple numeric value like:\n",
    "-3\n",
    "-2/3\n",
    "-4.55563\n",
    "\n",
    "Scalars are usually integers, fixed point or floating-point numbers, <br>\n",
    "as opposed to an array or object."
   ]
  },
  {
   "cell_type": "markdown",
   "id": "0a42571f",
   "metadata": {},
   "source": [
    "### What is a Vector?"
   ]
  },
  {
   "cell_type": "markdown",
   "id": "f31e5e37",
   "metadata": {},
   "source": [
    "A vector is a tuple of one or more scalars. <br>\n",
    "\n",
    "In Python, a [tuple](https://www.w3schools.com/python/python_tuples.asp) is a collection which is ordered and **unchangeable**.\n",
    "\n",
    "Vectors are often represented using a lowercase character such as 'v':"
   ]
  },
  {
   "cell_type": "code",
   "execution_count": null,
   "id": "2788a029",
   "metadata": {},
   "outputs": [],
   "source": [
    "# v1, v2, v3 are scalar, often real values.\n",
    "v = (v1, v2, v3)"
   ]
  },
  {
   "cell_type": "markdown",
   "id": "de0b381a",
   "metadata": {},
   "source": [
    "### Defining a Vector"
   ]
  },
  {
   "cell_type": "markdown",
   "id": "5989175e",
   "metadata": {},
   "source": [
    "A vector can be defined in Python as a numpy array.<br>\n",
    "A numpy array can be created from a list of numbers.<br>\n",
    "Below, the vector is defined as having length 3 and <br>\n",
    "integer values 1, 2, 3."
   ]
  },
  {
   "cell_type": "code",
   "execution_count": 4,
   "id": "cfea24a5",
   "metadata": {},
   "outputs": [
    {
     "name": "stdout",
     "output_type": "stream",
     "text": [
      "[1 2 3]\n"
     ]
    }
   ],
   "source": [
    "# Create a vector\n",
    "import numpy as np\n",
    "\n",
    "v = np.array([1, 2, 3])\n",
    "print(v)"
   ]
  },
  {
   "cell_type": "code",
   "execution_count": null,
   "id": "5078ad3f",
   "metadata": {},
   "outputs": [],
   "source": []
  },
  {
   "cell_type": "code",
   "execution_count": null,
   "id": "cd784fac",
   "metadata": {},
   "outputs": [],
   "source": []
  },
  {
   "cell_type": "code",
   "execution_count": null,
   "id": "42eb61d3",
   "metadata": {},
   "outputs": [],
   "source": []
  },
  {
   "cell_type": "code",
   "execution_count": null,
   "id": "ae2485cc",
   "metadata": {},
   "outputs": [],
   "source": []
  },
  {
   "cell_type": "markdown",
   "id": "c48e5469",
   "metadata": {},
   "source": [
    "## References"
   ]
  },
  {
   "cell_type": "markdown",
   "id": "1c4d8bba",
   "metadata": {},
   "source": [
    "1. [A Gentle Introduction to Linear Algebra](https://machinelearningmastery.com/gentle-introduction-linear-algebra/)<br>\n",
    "2."
   ]
  }
 ],
 "metadata": {
  "kernelspec": {
   "display_name": "Python 3 (ipykernel)",
   "language": "python",
   "name": "python3"
  },
  "language_info": {
   "codemirror_mode": {
    "name": "ipython",
    "version": 3
   },
   "file_extension": ".py",
   "mimetype": "text/x-python",
   "name": "python",
   "nbconvert_exporter": "python",
   "pygments_lexer": "ipython3",
   "version": "3.9.13"
  }
 },
 "nbformat": 4,
 "nbformat_minor": 5
}
