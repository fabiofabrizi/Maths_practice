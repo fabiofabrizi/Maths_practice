{
 "cells": [
  {
   "cell_type": "markdown",
   "id": "d0d7dc06",
   "metadata": {},
   "source": [
    "# Linear Algebra"
   ]
  },
  {
   "cell_type": "markdown",
   "id": "cdc783ce",
   "metadata": {},
   "source": [
    "## Books\n",
    "\n",
    "https://gwthomas.github.io/docs/math4ml.pdf\n",
    "\n",
    "http://cs229.stanford.edu/section/cs229-prob.pdf\n",
    "\n",
    "https://www.deeplearningbook.org/contents/linear_algebra.html\n",
    "\n",
    "https://web.stanford.edu/~boyd/vmls/vmls.pdf\n",
    "\n",
    "(What I've started with)<br>\n",
    "https://mml-book.github.io/book/mml-book.pdf"
   ]
  },
  {
   "cell_type": "markdown",
   "id": "ebfcb85e",
   "metadata": {},
   "source": [
    "## What is Linear Algebra?"
   ]
  },
  {
   "cell_type": "markdown",
   "id": "c5315829",
   "metadata": {},
   "source": [
    "Linear Algebra is a branch of mathematics that's used in statistics and therefore, Data Science.\n",
    "The type of Linear Algebra used in Data Science are Matrices and Vectors. <br>\n",
    "\n",
    "It's called Linear because of the *Linear combinations*, ie, using arithmetic on columns of numbers (vectors) <br>\n",
    "and arrays of numbers (matrices) to create new columns and arrays of numbers.\n",
    "\n",
    "Linear Algebra is used for analysing: <br>\n",
    "- lines and planes\n",
    "- vector spaces\n",
    "- mappings\n",
    "Which are used for linear transforms.<br>\n",
    "\n",
    "An example of a simple linear equation is below:"
   ]
  },
  {
   "cell_type": "code",
   "execution_count": null,
   "id": "dd6bb9bc",
   "metadata": {},
   "outputs": [],
   "source": [
    "y = 5 * x + 9"
   ]
  },
  {
   "cell_type": "markdown",
   "id": "3643b1a2",
   "metadata": {},
   "source": [
    "## Linear Algebra and Statistics"
   ]
  },
  {
   "cell_type": "markdown",
   "id": "a098c079",
   "metadata": {},
   "source": [
    "[Linear Algebra](https://machinelearningmastery.com/gentle-introduction-linear-algebra/) is used in Statistics for the following methods:\n",
    "- Vector and matrix notation, especially multivariate statistics\n",
    "- Solutions to least squares and weighted least squares, for linear regression.\n",
    "- Estimates of mean and variance of data matrices\n",
    "- Covariance matrix that is used in multinomial Gaussian distributions\n",
    "- Principal Component Analysis for data reduction."
   ]
  },
  {
   "cell_type": "markdown",
   "id": "ae072ca8",
   "metadata": {},
   "source": [
    "### What is a Scalar?"
   ]
  },
  {
   "cell_type": "markdown",
   "id": "3824e0e4",
   "metadata": {},
   "source": [
    "A [scalar](https://softwareengineering.stackexchange.com/questions/238033/what-does-it-mean-when-data-is-scalar#:~:text=A%20scalar%20is%20a%20simple%20single%20numeric%20value,that%20contains%20more%20than%20one%20single%20numeric%20value.) is a simple numeric value like:\n",
    "-3\n",
    "-2/3\n",
    "-4.55563\n",
    "\n",
    "Scalars are usually integers, fixed point or floating-point numbers, <br>\n",
    "as opposed to an array or object."
   ]
  },
  {
   "cell_type": "markdown",
   "id": "5f552a04",
   "metadata": {},
   "source": [
    "### What is a Vector?"
   ]
  },
  {
   "cell_type": "markdown",
   "id": "7323a1d7",
   "metadata": {},
   "source": [
    "A vector is a tuple of one or more scalars. <br>\n",
    "\n",
    "In Python, a [tuple](https://www.w3schools.com/python/python_tuples.asp) is a collection which is ordered and **unchangeable**."
   ]
  },
  {
   "cell_type": "code",
   "execution_count": null,
   "id": "15670b35",
   "metadata": {},
   "outputs": [],
   "source": []
  },
  {
   "cell_type": "code",
   "execution_count": null,
   "id": "1aed4b94",
   "metadata": {},
   "outputs": [],
   "source": []
  },
  {
   "cell_type": "code",
   "execution_count": null,
   "id": "44afdad5",
   "metadata": {},
   "outputs": [],
   "source": []
  },
  {
   "cell_type": "code",
   "execution_count": null,
   "id": "d67c39d9",
   "metadata": {},
   "outputs": [],
   "source": []
  },
  {
   "cell_type": "code",
   "execution_count": null,
   "id": "737fb574",
   "metadata": {},
   "outputs": [],
   "source": []
  },
  {
   "cell_type": "code",
   "execution_count": null,
   "id": "72220305",
   "metadata": {},
   "outputs": [],
   "source": []
  },
  {
   "cell_type": "code",
   "execution_count": null,
   "id": "43a7b86a",
   "metadata": {},
   "outputs": [],
   "source": []
  },
  {
   "cell_type": "code",
   "execution_count": null,
   "id": "d3dc29ff",
   "metadata": {},
   "outputs": [],
   "source": []
  },
  {
   "cell_type": "code",
   "execution_count": null,
   "id": "eeeb1985",
   "metadata": {},
   "outputs": [],
   "source": []
  },
  {
   "cell_type": "markdown",
   "id": "de0f1a32",
   "metadata": {},
   "source": [
    "## References"
   ]
  },
  {
   "cell_type": "markdown",
   "id": "b8a79b22",
   "metadata": {},
   "source": [
    "1. [A Gentle Introduction to Linear Algebra](https://machinelearningmastery.com/gentle-introduction-linear-algebra/)<br>\n",
    "2."
   ]
  }
 ],
 "metadata": {
  "kernelspec": {
   "display_name": "Python 3 (ipykernel)",
   "language": "python",
   "name": "python3"
  },
  "language_info": {
   "codemirror_mode": {
    "name": "ipython",
    "version": 3
   },
   "file_extension": ".py",
   "mimetype": "text/x-python",
   "name": "python",
   "nbconvert_exporter": "python",
   "pygments_lexer": "ipython3",
   "version": "3.9.13"
  }
 },
 "nbformat": 4,
 "nbformat_minor": 5
}
