{
 "cells": [
  {
   "cell_type": "markdown",
   "id": "14118073",
   "metadata": {},
   "source": [
    "# Maths Notation"
   ]
  },
  {
   "cell_type": "markdown",
   "id": "94d8c871",
   "metadata": {},
   "source": [
    "## Aims"
   ]
  },
  {
   "cell_type": "markdown",
   "id": "3e5c6b14",
   "metadata": {},
   "source": [
    "Become familiar with the notation used in Linear Algebra and/or Statistics."
   ]
  },
  {
   "cell_type": "markdown",
   "id": "e75ba68c",
   "metadata": {},
   "source": [
    "<script\n",
    "  src=\"https://cdn.mathjax.org/mathjax/latest/MathJax.js?config=TeX-AMS-MML_HTMLorMML\"\n",
    "  type=\"text/javascript\">\n",
    "</script>"
   ]
  },
  {
   "cell_type": "markdown",
   "id": "d5cda3e2",
   "metadata": {},
   "source": [
    "## Multiplication Notation"
   ]
  },
  {
   "cell_type": "code",
   "execution_count": null,
   "id": "72bfae90",
   "metadata": {},
   "outputs": [],
   "source": [
    "# In Python:\n",
    "a = b * c\n",
    "\n",
    "# Also:\n",
    "a = b x c\n",
    "a = b . c\n",
    "a = bc"
   ]
  },
  {
   "cell_type": "markdown",
   "id": "5e221e5f",
   "metadata": {},
   "source": [
    "### In LaTeX\n",
    "\n",
    "\\begin{gather*}\n",
    "a_1=b_1 * c_1\\\\\n",
    "a_1=b_1.c_1\\\\\n",
    "a_1=b_1c_1\n",
    "\\end{gather*}\n"
   ]
  },
  {
   "cell_type": "markdown",
   "id": "e77e71d5",
   "metadata": {},
   "source": [
    "## Exponents and Square Roots"
   ]
  },
  {
   "cell_type": "code",
   "execution_count": null,
   "id": "8e331e1d",
   "metadata": {},
   "outputs": [],
   "source": [
    "# Exponents in Python:\n",
    "2 ** 3\n",
    "\n",
    "# Or written as a superscript:\n",
    "2^3\n",
    "\n",
    "# Square roots in Python\n",
    "sqrt(9)"
   ]
  },
  {
   "cell_type": "markdown",
   "id": "648c5eae",
   "metadata": {},
   "source": [
    "## LaTex\n",
    "$\\sqrt{9}$\n",
    "\n"
   ]
  },
  {
   "cell_type": "markdown",
   "id": "094baf87",
   "metadata": {},
   "source": [
    "## Logarithms and e"
   ]
  },
  {
   "cell_type": "markdown",
   "id": "e6b85eea",
   "metadata": {},
   "source": [
    "When we raise 10 to an integer exponent, this is often called an order of magnitude."
   ]
  },
  {
   "cell_type": "code",
   "execution_count": null,
   "id": "845e0cbf",
   "metadata": {},
   "outputs": [],
   "source": [
    "10 ^ 2 = 10 X 10 = 100"
   ]
  },
  {
   "cell_type": "code",
   "execution_count": null,
   "id": "150d8356",
   "metadata": {},
   "outputs": [],
   "source": [
    "# Or in Python:\n",
    "10 ** 2 = 100"
   ]
  },
  {
   "cell_type": "markdown",
   "id": "eeb301f0",
   "metadata": {},
   "source": [
    "Another way to reverse this operation is by calculating the logarithm of the result 100 assuming a base of 10. \n",
    "In notation this is written as log10()"
   ]
  },
  {
   "cell_type": "code",
   "execution_count": null,
   "id": "b6f5c126",
   "metadata": {},
   "outputs": [],
   "source": [
    "log10(100) = 2"
   ]
  },
  {
   "cell_type": "markdown",
   "id": "89391052",
   "metadata": {},
   "source": [
    "$\\log10(100) = 2\\$"
   ]
  },
  {
   "cell_type": "code",
   "execution_count": null,
   "id": "4cc18a37",
   "metadata": {},
   "outputs": [],
   "source": [
    "2^6 = 64\n",
    "log2(64) = 6"
   ]
  },
  {
   "cell_type": "markdown",
   "id": "019c2542",
   "metadata": {},
   "source": [
    "$2^{6} = 64$ <br>\n",
    "$log2(64) = 6$"
   ]
  },
  {
   "cell_type": "markdown",
   "id": "10536c78",
   "metadata": {},
   "source": [
    "Another popular logarithm is to assume the natural base, *e*.<br>\n",
    "The *e* is reserved and is a special number or constant called *Euler's number*,<br>\n",
    "referring to a number with nearly infinite precision.\n",
    "\n",
    "$e = 2.71828...$"
   ]
  },
  {
   "cell_type": "markdown",
   "id": "a5cbbbde",
   "metadata": {},
   "source": [
    "And raising e to a power is called a natural exponential function:<br>\n",
    "\n",
    "$e^{2} = 7.38905$"
   ]
  },
  {
   "cell_type": "markdown",
   "id": "cece15dd",
   "metadata": {},
   "source": [
    "And can be inverted using the natural logarithm, denoted as ln():<br><br>\n",
    "$ln(7.38905) = 2$"
   ]
  },
  {
   "cell_type": "markdown",
   "id": "276b82d1",
   "metadata": {},
   "source": [
    "The natural exponent and natural logarithm are useful in mathematics to describe the growth of some systems that grow exponentially.<br><br><br>"
   ]
  },
  {
   "cell_type": "markdown",
   "id": "d896ecc8",
   "metadata": {},
   "source": [
    "## Greek Alphabet"
   ]
  },
  {
   "cell_type": "markdown",
   "id": "e2400d42",
   "metadata": {},
   "source": [
    "Greek letters are used in mathematics for variables, constants, functions and more.\n",
    "\n",
    "In statistics, the mean is described using the lowercase Greek letter mu:<br>\n",
    "$\\mu$ <br>\n",
    "\n",
    "And the standard deviation is described with the lowercase Greek letter sigma:<br>\n",
    "$\\sigma$ <br>"
   ]
  },
  {
   "attachments": {
    "Greek_letters.jpg": {
     "image/jpeg": "[encoded data removed]"
    }
   },
   "cell_type": "markdown",
   "id": "eb99c989",
   "metadata": {},
   "source": [
    "![Greek_letters.jpg](attachment:Greek_letters.jpg)"
   ]
  },
  {
   "cell_type": "markdown",
   "id": "b8c445ac",
   "metadata": {},
   "source": [
    "## Sequence Notation"
   ]
  },
  {
   "cell_type": "markdown",
   "id": "7018fba5",
   "metadata": {},
   "source": [
    "Machine learning notation usually describes operations on sequences.<br>\n",
    "A sequence can be a list or an array."
   ]
  },
  {
   "cell_type": "markdown",
   "id": "8a46544a",
   "metadata": {},
   "source": [
    "### Indexing"
   ]
  },
  {
   "cell_type": "markdown",
   "id": "0d44bb8c",
   "metadata": {},
   "source": [
    "A key to understanding sequences is the idea of indexing elements in the sequence. <br>\n",
    "The notation will usually specify the beginning and end of the sequence, such as 1 to n, where n<br>\n",
    "will be the length of the sequence.<br>\n",
    "\n",
    "$1..n$\n",
    "\n",
    "Items in the sequence are indexed by a variable such as i, j or k as a subscript, like array notation.<br>\n",
    "\n",
    "$a_i$ is the $i^{th}$ element of the sequence $a$<br>\n",
    "\n",
    "If the sequence is two-dimensional, two indices can be used, ie: <br>\n",
    "\n",
    "$b_{i,j}$ is the $i,j^{th}$ element of the sequence $b$. <br>"
   ]
  },
  {
   "cell_type": "markdown",
   "id": "9bd8636a",
   "metadata": {},
   "source": [
    "### Sequence Operations"
   ]
  },
  {
   "cell_type": "markdown",
   "id": "b246087c",
   "metadata": {},
   "source": [
    "Mathematical operations can be performed over a sequence (think Numpy). <br>\n",
    "The operations sum and multiplication are used so often on sequences, <br>\n",
    "they have their own shorthand."
   ]
  },
  {
   "cell_type": "markdown",
   "id": "6bcb1a8f",
   "metadata": {},
   "source": [
    "#### Sequence Summation"
   ]
  },
  {
   "cell_type": "markdown",
   "id": "d4e2de88",
   "metadata": {},
   "source": [
    "The uppercase Greek letter sigma is used to describe the sum over a sequence.<br>\n",
    "It's specified with the variable and start of the sequence summation below the sigma,<br>\n",
    "($i = 1$)<br>\n",
    "and the index of the end of the summation above the sigma ($n$).<br>\n",
    "\n",
    "\n",
    "\\begin{equation*}\n",
    "\\sum_{n=1}^{n}a_i\n",
    "\\end{equation*}\n",
    "\n",
    "Above: The sum of a sequence, starting at element 1 to element $n$."
   ]
  },
  {
   "cell_type": "markdown",
   "id": "af80d59d",
   "metadata": {},
   "source": [
    "### Sequence Multiplication"
   ]
  },
  {
   "cell_type": "markdown",
   "id": "51fd4bf7",
   "metadata": {},
   "source": [
    "The multiplication over a sequence is denoted by the Greek uppercase letter pi.<br>\n",
    "It's specified the same way as the sequence summation:<br>\n",
    "Beginning and the end of the operation below and above pi respectively.<br>\n",
    "\n",
    "\n",
    "$$ \\prod_{i=1}^{n} a_i$$\n",
    "\n",
    "\n",
    "This is the product of the sequence starting at element 1 to element n."
   ]
  },
  {
   "cell_type": "markdown",
   "id": "ae86a08d",
   "metadata": {},
   "source": [
    "## Set Notation"
   ]
  },
  {
   "cell_type": "markdown",
   "id": "b6b57db1",
   "metadata": {},
   "source": [
    "A set is a group of unique items.<br>\n",
    "Set notation is used when defining terms in machine learning."
   ]
  },
  {
   "cell_type": "markdown",
   "id": "1a1ecb9a",
   "metadata": {},
   "source": [
    "### Set of Numbers"
   ]
  },
  {
   "cell_type": "markdown",
   "id": "c78581e0",
   "metadata": {},
   "source": [
    "Seeing a set of numbers is quite common.<br>\n",
    "A set of numbers can be used to describe a term that's defined as being within<br>\n",
    "the set of integers or the set of real numbers.<br>\n",
    "\n",
    "Common sets include:<br>\n",
    "- Set of all natural numbers: N\n",
    "- Set of all integers: Z\n",
    "- Set of all real numbers: R\n",
    "\n",
    "For more information, see [special sets](https://en.wikipedia.org/wiki/Set_(mathematics)#Special_sets).<br>\n",
    "\n",
    "Real numbers and values are used when defining terms for sets, rather than floating point numbers."
   ]
  },
  {
   "cell_type": "markdown",
   "id": "a4d4d1fd",
   "metadata": {},
   "source": [
    "## Set Membership"
   ]
  },
  {
   "cell_type": "markdown",
   "id": "f0a01fc3",
   "metadata": {},
   "source": [
    "Set membership is described as a definition of terms.<br>\n",
    "The set membership is denoted as a symbol that looks quite like <br>\n",
    "an upper-case 'E'.\n",
    "\n",
    "$a \\in \\mathbb{R}$\n",
    "\n",
    "Which means $a$ is defined as being a member of the set $\\mathbb{R}$<br>\n",
    "or the set of real numbers.<br>\n",
    "There are other set operations, but common ones include:<br>\n",
    "- Union, or aggregation: $A \\cup B$\n",
    "- Intersection, or overlap: $A \\cap B$"
   ]
  },
  {
   "cell_type": "markdown",
   "id": "044569b6",
   "metadata": {},
   "source": [
    "## Other Notation"
   ]
  },
  {
   "cell_type": "markdown",
   "id": "84d59203",
   "metadata": {},
   "source": [
    "It's common to define a method in the abstract and then define it again as a specific implementation with seperate notation.<br>\n",
    "\n",
    "If we're estimating a variable $x$, we can represent it using a notation that modifies the $x$<br>\n",
    "for example:<br>\n",
    "\n",
    "- $\\bar{x}$&nbsp;&nbsp;&nbsp;&nbsp;x-bar<br>\n",
    "- $\\grave{x}$&nbsp;&nbsp;&nbsp;&nbsp; x-prime<br>\n",
    "- $\\hat{x}$&nbsp;&nbsp;&nbsp;&nbsp; x-hat<br>\n",
    "- $\\tilde{x}$&nbsp;&nbsp;&nbsp;&nbsp; x-tilde<br>\n",
    "\n",
    "\n"
   ]
  },
  {
   "cell_type": "markdown",
   "id": "2544126c",
   "metadata": {},
   "source": [
    "The same notation can have a different meaning in different contexts,<br>\n",
    "when used in different objects or sub-fields of mathematics.<br>\n",
    "\n",
    "For example, $\\vert{x}\\vert$ can mean:\n",
    "- $\\vert{x}\\vert$: The absolute or positive value of $x$\n",
    "- $\\vert{x}\\vert$: The length of $x$\n",
    "- $\\vert{x}\\vert$: The cardinality of the set $x$"
   ]
  },
  {
   "cell_type": "markdown",
   "id": "2499f4f3",
   "metadata": {},
   "source": [
    "### Final thoughts"
   ]
  },
  {
   "cell_type": "markdown",
   "id": "7bc0d2f6",
   "metadata": {},
   "source": [
    "Maths operations are just functions on data.<br>\n",
    "With this in mind, use Python to 'sketch' techniques so that you can see what the maths is doing."
   ]
  },
  {
   "cell_type": "markdown",
   "id": "1b0565d4",
   "metadata": {},
   "source": [
    "## References:"
   ]
  },
  {
   "cell_type": "markdown",
   "id": "e1b890f8",
   "metadata": {},
   "source": [
    "1. [LaTeX reference](https://quickref.me/latex)\n",
    "2. [Learning LaTex](https://github.com/mpawliuk/Learning-LaTeX)<br>\n",
    "3. [LaTeX Cheat Sheet](https://quickref.me/latex)<br>\n",
    "4. [Math in Jupyter notebook](https://jupyterbook.org/en/stable/content/math.html#)<br>\n",
    "5. [Learn LaTeX](https://www.overleaf.com/learn/latex/Mathematical_expressions#Inline_math_mode)<br>\n",
    "6. [Set Notations in LaTeX](https://www.geeksforgeeks.org/set-notations-in-latex/)<br>\n"
   ]
  }
 ],
 "metadata": {
  "kernelspec": {
   "display_name": "Python 3 (ipykernel)",
   "language": "python",
   "name": "python3"
  },
  "language_info": {
   "codemirror_mode": {
    "name": "ipython",
    "version": 3
   },
   "file_extension": ".py",
   "mimetype": "text/x-python",
   "name": "python",
   "nbconvert_exporter": "python",
   "pygments_lexer": "ipython3",
   "version": "3.9.13"
  }
 },
 "nbformat": 4,
 "nbformat_minor": 5
}
