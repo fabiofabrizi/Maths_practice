{
 "cells": [
  {
   "cell_type": "markdown",
   "id": "1806e7c2",
   "metadata": {},
   "source": [
    "# Maths Notation"
   ]
  },
  {
   "cell_type": "markdown",
   "id": "d67a1357",
   "metadata": {},
   "source": [
    "## Aims"
   ]
  },
  {
   "cell_type": "markdown",
   "id": "6e89e1be",
   "metadata": {},
   "source": [
    "Become familiar with the notation used in Linear Algebra and/or Statistics."
   ]
  },
  {
   "cell_type": "markdown",
   "id": "e341be56",
   "metadata": {},
   "source": [
    "## Multiplication Notation"
   ]
  },
  {
   "cell_type": "code",
   "execution_count": null,
   "id": "e72c3f5b",
   "metadata": {},
   "outputs": [],
   "source": [
    "# In Python:\n",
    "a = b * c\n",
    "\n",
    "# Also:\n",
    "a = b x c\n",
    "a = b . c\n",
    "a = bc"
   ]
  },
  {
   "cell_type": "code",
   "execution_count": null,
   "id": "f72aee92",
   "metadata": {},
   "outputs": [],
   "source": []
  },
  {
   "cell_type": "markdown",
   "id": "12161956",
   "metadata": {},
   "source": [
    "## Exponents and Square Roots"
   ]
  },
  {
   "cell_type": "code",
   "execution_count": null,
   "id": "90f265ac",
   "metadata": {},
   "outputs": [],
   "source": [
    "# In Python:\n",
    "2 ** 3\n",
    "\n",
    "# Or written as a superscript:\n",
    "2^3"
   ]
  },
  {
   "cell_type": "code",
   "execution_count": null,
   "id": "a0a470ac",
   "metadata": {},
   "outputs": [],
   "source": []
  },
  {
   "cell_type": "code",
   "execution_count": null,
   "id": "d03dbc1b",
   "metadata": {},
   "outputs": [],
   "source": []
  },
  {
   "cell_type": "code",
   "execution_count": null,
   "id": "30b30723",
   "metadata": {},
   "outputs": [],
   "source": []
  },
  {
   "cell_type": "code",
   "execution_count": null,
   "id": "dd79505f",
   "metadata": {},
   "outputs": [],
   "source": []
  },
  {
   "cell_type": "code",
   "execution_count": null,
   "id": "c82fb120",
   "metadata": {},
   "outputs": [],
   "source": []
  },
  {
   "cell_type": "code",
   "execution_count": null,
   "id": "39707f70",
   "metadata": {},
   "outputs": [],
   "source": []
  },
  {
   "cell_type": "code",
   "execution_count": null,
   "id": "b5898da7",
   "metadata": {},
   "outputs": [],
   "source": []
  },
  {
   "cell_type": "code",
   "execution_count": null,
   "id": "43f7a94b",
   "metadata": {},
   "outputs": [],
   "source": []
  }
 ],
 "metadata": {
  "kernelspec": {
   "display_name": "Python 3 (ipykernel)",
   "language": "python",
   "name": "python3"
  },
  "language_info": {
   "codemirror_mode": {
    "name": "ipython",
    "version": 3
   },
   "file_extension": ".py",
   "mimetype": "text/x-python",
   "name": "python",
   "nbconvert_exporter": "python",
   "pygments_lexer": "ipython3",
   "version": "3.9.13"
  }
 },
 "nbformat": 4,
 "nbformat_minor": 5
}
